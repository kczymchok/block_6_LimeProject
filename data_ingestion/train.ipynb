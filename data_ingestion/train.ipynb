{
 "cells": [
  {
   "cell_type": "code",
   "execution_count": 1,
   "id": "e160f461-5f9d-47fe-8ed5-20eac6bfaa9d",
   "metadata": {},
   "outputs": [],
   "source": [
    "import requests\n",
    "import numpy as np\n",
    "import pandas as pd\n",
    "import plotly.express as px\n",
    "from sklearn.cluster import KMeans\n",
    "from sklearn.linear_model import LinearRegression\n",
    "from sklearn.preprocessing import OneHotEncoder, LabelBinarizer, OrdinalEncoder, LabelEncoder\n",
    "from sklearn.model_selection import train_test_split, GridSearchCV\n",
    "from sklearn.ensemble import RandomForestRegressor\n",
    "from sklearn.metrics import mean_absolute_error\n",
    "from sklearn.compose import ColumnTransformer\n",
    "\n",
    "# Configuration pour afficher toutes les colonnes\n",
    "pd.set_option('display.max_columns', 50)"
   ]
  },
  {
   "cell_type": "code",
   "execution_count": 2,
   "id": "0826a8b8-feda-4348-a0e8-636ac2f9e2e9",
   "metadata": {},
   "outputs": [],
   "source": [
    "import glob\n",
    "\n",
    "# Chemin vers le dossier contenant les fichiers CSV\n",
    "folder_path = \"data/\"\n",
    "\n",
    "# Modèle de recherche pour les fichiers CSV\n",
    "file_pattern = \"*.csv\"\n",
    "\n",
    "# Liste pour stocker les DataFrames\n",
    "datasets = []\n",
    "\n",
    "# Rechercher tous les fichiers correspondant au modèle de recherche\n",
    "csv_files = glob.glob(folder_path + file_pattern)\n",
    "\n",
    "# Lire chaque fichier CSV et ajouter le DataFrame à la liste\n",
    "for file in csv_files:\n",
    "    df = pd.read_csv(file)\n",
    "    datasets.append(df)"
   ]
  },
  {
   "cell_type": "code",
   "execution_count": 3,
   "id": "c0449868-16fb-4e9f-894d-4d8a2ed52ea2",
   "metadata": {},
   "outputs": [
    {
     "data": {
      "text/plain": [
       "15"
      ]
     },
     "execution_count": 3,
     "metadata": {},
     "output_type": "execute_result"
    }
   ],
   "source": [
    "len(datasets)"
   ]
  },
  {
   "cell_type": "code",
   "execution_count": 4,
   "id": "bb3b6467-816e-4b17-9e2a-658960613744",
   "metadata": {},
   "outputs": [],
   "source": [
    "# Concaténer tous les DataFrames de la liste \"datasets\"\n",
    "concatenated_df = pd.concat(datasets, ignore_index=True)"
   ]
  },
  {
   "cell_type": "code",
   "execution_count": 5,
   "id": "acb9a72c-b57b-4a90-85af-c6a93da31b36",
   "metadata": {},
   "outputs": [
    {
     "data": {
      "text/plain": [
       "(21910, 30)"
      ]
     },
     "execution_count": 5,
     "metadata": {},
     "output_type": "execute_result"
    }
   ],
   "source": [
    "concatenated_df.shape"
   ]
  },
  {
   "cell_type": "code",
   "execution_count": 6,
   "id": "ad9a4b3a-7a03-4c57-9e8a-1fdbfa7e2ebb",
   "metadata": {},
   "outputs": [
    {
     "data": {
      "text/plain": [
       "Index(['stationcode', 'name', 'nom_arrondissement_communes', 'capacity',\n",
       "       'latitude', 'longitude', 'is_station_open', 'is_installed',\n",
       "       'numdocksavailable', 'numbikesavailable', 'mechanical', 'ebike',\n",
       "       'is_renting', 'is_returning', 'duedate', 'year', 'month', 'day_name',\n",
       "       'day', 'hour', 'minute', 'second', 'time_period', 'season',\n",
       "       'is_holiday', 'availability_rate', 'utilization_rate', 'theo_capacity',\n",
       "       'theo_utilization_rate', 'theo_availability_rate'],\n",
       "      dtype='object')"
      ]
     },
     "execution_count": 6,
     "metadata": {},
     "output_type": "execute_result"
    }
   ],
   "source": [
    "concatenated_df.columns"
   ]
  },
  {
   "cell_type": "code",
   "execution_count": 7,
   "id": "aa314026-1fe4-4f50-8e83-ee53a642db96",
   "metadata": {},
   "outputs": [],
   "source": [
    "target = \"theo_utilization_rate\"\n",
    "\n",
    "features = ['nom_arrondissement_communes', 'latitude', 'longitude',\n",
    "             'numdocksavailable', 'mechanical', 'ebike',\n",
    "             'is_renting', 'hour', 'day', 'day_name',\n",
    "              'minute', 'second', 'time_period']\n",
    "\n",
    "dataset = concatenated_df.dropna().reset_index(drop=True)\n",
    "dataset = dataset[(dataset.is_station_open==1) & (dataset.is_installed==1)]\n",
    "\n",
    "X = dataset[features]\n",
    "y = dataset[target]\n"
   ]
  },
  {
   "cell_type": "code",
   "execution_count": 8,
   "id": "9399ef51-e6d0-4bfe-91f7-8aea1951fe12",
   "metadata": {},
   "outputs": [
    {
     "data": {
      "text/html": [
       "<div>\n",
       "<style scoped>\n",
       "    .dataframe tbody tr th:only-of-type {\n",
       "        vertical-align: middle;\n",
       "    }\n",
       "\n",
       "    .dataframe tbody tr th {\n",
       "        vertical-align: top;\n",
       "    }\n",
       "\n",
       "    .dataframe thead th {\n",
       "        text-align: right;\n",
       "    }\n",
       "</style>\n",
       "<table border=\"1\" class=\"dataframe\">\n",
       "  <thead>\n",
       "    <tr style=\"text-align: right;\">\n",
       "      <th></th>\n",
       "      <th>latitude</th>\n",
       "      <th>longitude</th>\n",
       "      <th>numdocksavailable</th>\n",
       "      <th>mechanical</th>\n",
       "      <th>ebike</th>\n",
       "      <th>is_renting</th>\n",
       "      <th>hour</th>\n",
       "      <th>day</th>\n",
       "      <th>minute</th>\n",
       "      <th>second</th>\n",
       "    </tr>\n",
       "  </thead>\n",
       "  <tbody>\n",
       "    <tr>\n",
       "      <th>count</th>\n",
       "      <td>12889.000000</td>\n",
       "      <td>12889.000000</td>\n",
       "      <td>12889.000000</td>\n",
       "      <td>12889.000000</td>\n",
       "      <td>12889.000000</td>\n",
       "      <td>12889.000000</td>\n",
       "      <td>12889.000000</td>\n",
       "      <td>12889.000000</td>\n",
       "      <td>12889.000000</td>\n",
       "      <td>12889.000000</td>\n",
       "    </tr>\n",
       "    <tr>\n",
       "      <th>mean</th>\n",
       "      <td>48.858135</td>\n",
       "      <td>2.341030</td>\n",
       "      <td>19.767243</td>\n",
       "      <td>6.874699</td>\n",
       "      <td>3.920708</td>\n",
       "      <td>0.990457</td>\n",
       "      <td>15.313290</td>\n",
       "      <td>16.220110</td>\n",
       "      <td>39.154395</td>\n",
       "      <td>29.521840</td>\n",
       "    </tr>\n",
       "    <tr>\n",
       "      <th>std</th>\n",
       "      <td>0.030493</td>\n",
       "      <td>0.056427</td>\n",
       "      <td>12.408197</td>\n",
       "      <td>8.561380</td>\n",
       "      <td>3.758138</td>\n",
       "      <td>0.097225</td>\n",
       "      <td>3.886512</td>\n",
       "      <td>0.858401</td>\n",
       "      <td>3.665489</td>\n",
       "      <td>16.902677</td>\n",
       "    </tr>\n",
       "    <tr>\n",
       "      <th>min</th>\n",
       "      <td>48.764615</td>\n",
       "      <td>2.165597</td>\n",
       "      <td>0.000000</td>\n",
       "      <td>0.000000</td>\n",
       "      <td>0.000000</td>\n",
       "      <td>0.000000</td>\n",
       "      <td>0.000000</td>\n",
       "      <td>7.000000</td>\n",
       "      <td>0.000000</td>\n",
       "      <td>0.000000</td>\n",
       "    </tr>\n",
       "    <tr>\n",
       "      <th>25%</th>\n",
       "      <td>48.837668</td>\n",
       "      <td>2.302569</td>\n",
       "      <td>10.000000</td>\n",
       "      <td>1.000000</td>\n",
       "      <td>1.000000</td>\n",
       "      <td>1.000000</td>\n",
       "      <td>16.000000</td>\n",
       "      <td>16.000000</td>\n",
       "      <td>38.000000</td>\n",
       "      <td>15.000000</td>\n",
       "    </tr>\n",
       "    <tr>\n",
       "      <th>50%</th>\n",
       "      <td>48.858367</td>\n",
       "      <td>2.343698</td>\n",
       "      <td>18.000000</td>\n",
       "      <td>3.000000</td>\n",
       "      <td>3.000000</td>\n",
       "      <td>1.000000</td>\n",
       "      <td>16.000000</td>\n",
       "      <td>16.000000</td>\n",
       "      <td>40.000000</td>\n",
       "      <td>30.000000</td>\n",
       "    </tr>\n",
       "    <tr>\n",
       "      <th>75%</th>\n",
       "      <td>48.879331</td>\n",
       "      <td>2.377885</td>\n",
       "      <td>27.000000</td>\n",
       "      <td>10.000000</td>\n",
       "      <td>5.000000</td>\n",
       "      <td>1.000000</td>\n",
       "      <td>17.000000</td>\n",
       "      <td>16.000000</td>\n",
       "      <td>41.000000</td>\n",
       "      <td>43.000000</td>\n",
       "    </tr>\n",
       "    <tr>\n",
       "      <th>max</th>\n",
       "      <td>48.951432</td>\n",
       "      <td>2.538242</td>\n",
       "      <td>66.000000</td>\n",
       "      <td>58.000000</td>\n",
       "      <td>40.000000</td>\n",
       "      <td>1.000000</td>\n",
       "      <td>23.000000</td>\n",
       "      <td>30.000000</td>\n",
       "      <td>55.000000</td>\n",
       "      <td>59.000000</td>\n",
       "    </tr>\n",
       "  </tbody>\n",
       "</table>\n",
       "</div>"
      ],
      "text/plain": [
       "           latitude     longitude  numdocksavailable    mechanical  \\\n",
       "count  12889.000000  12889.000000       12889.000000  12889.000000   \n",
       "mean      48.858135      2.341030          19.767243      6.874699   \n",
       "std        0.030493      0.056427          12.408197      8.561380   \n",
       "min       48.764615      2.165597           0.000000      0.000000   \n",
       "25%       48.837668      2.302569          10.000000      1.000000   \n",
       "50%       48.858367      2.343698          18.000000      3.000000   \n",
       "75%       48.879331      2.377885          27.000000     10.000000   \n",
       "max       48.951432      2.538242          66.000000     58.000000   \n",
       "\n",
       "              ebike    is_renting          hour           day        minute  \\\n",
       "count  12889.000000  12889.000000  12889.000000  12889.000000  12889.000000   \n",
       "mean       3.920708      0.990457     15.313290     16.220110     39.154395   \n",
       "std        3.758138      0.097225      3.886512      0.858401      3.665489   \n",
       "min        0.000000      0.000000      0.000000      7.000000      0.000000   \n",
       "25%        1.000000      1.000000     16.000000     16.000000     38.000000   \n",
       "50%        3.000000      1.000000     16.000000     16.000000     40.000000   \n",
       "75%        5.000000      1.000000     17.000000     16.000000     41.000000   \n",
       "max       40.000000      1.000000     23.000000     30.000000     55.000000   \n",
       "\n",
       "             second  \n",
       "count  12889.000000  \n",
       "mean      29.521840  \n",
       "std       16.902677  \n",
       "min        0.000000  \n",
       "25%       15.000000  \n",
       "50%       30.000000  \n",
       "75%       43.000000  \n",
       "max       59.000000  "
      ]
     },
     "execution_count": 8,
     "metadata": {},
     "output_type": "execute_result"
    }
   ],
   "source": [
    "X.describe()"
   ]
  },
  {
   "cell_type": "code",
   "execution_count": 9,
   "id": "1f1861cf-55ad-4a02-a72f-ce800b80280d",
   "metadata": {},
   "outputs": [
    {
     "name": "stdout",
     "output_type": "stream",
     "text": [
      "Dividing into train and test sets ...\n",
      "... Done.\n",
      "\n"
     ]
    }
   ],
   "source": [
    "# Divid dataset into Train and test sets\n",
    "print(\"Dividing into train and test sets ...\")\n",
    "X_train, X_test, y_train, y_test = train_test_split(X, y, test_size=0.2, random_state=42)\n",
    "print(\"... Done.\")\n",
    "print()"
   ]
  },
  {
   "cell_type": "code",
   "execution_count": 10,
   "id": "b9516487-c31e-46e5-b108-d319a2c2fc72",
   "metadata": {},
   "outputs": [
    {
     "data": {
      "text/plain": [
       "['nom_arrondissement_communes',\n",
       " 'latitude',\n",
       " 'longitude',\n",
       " 'numdocksavailable',\n",
       " 'mechanical',\n",
       " 'ebike',\n",
       " 'is_renting',\n",
       " 'hour',\n",
       " 'day',\n",
       " 'day_name',\n",
       " 'minute',\n",
       " 'second',\n",
       " 'time_period']"
      ]
     },
     "execution_count": 10,
     "metadata": {},
     "output_type": "execute_result"
    }
   ],
   "source": [
    "features"
   ]
  },
  {
   "cell_type": "code",
   "execution_count": 11,
   "id": "d9c63e7b-995d-4f30-bf3a-c25957ea3e4c",
   "metadata": {},
   "outputs": [],
   "source": [
    "# Création du pipeline pour les variables catégorielles\n",
    "categorical_transformer = OneHotEncoder(categories='auto', drop='first', handle_unknown='ignore')\n",
    "\n",
    "# Création du pipeline pour les variables ordinales\n",
    "ordinal_transformer = OrdinalEncoder(handle_unknown='use_encoded_value', unknown_value=-1)\n",
    "\n",
    "# Utilisation du ColumnTransformer\n",
    "preprocessor = ColumnTransformer(\n",
    "    transformers=[\n",
    "        ('cat', categorical_transformer, ['nom_arrondissement_communes', 'is_renting', \"time_period\", 'day_name']),\n",
    "        ('ord', ordinal_transformer, ['numdocksavailable', 'mechanical', 'ebike', 'day', 'hour', 'minute', 'second'])\n",
    "    ]\n",
    ")"
   ]
  },
  {
   "cell_type": "code",
   "execution_count": 12,
   "id": "24b280ed-5b75-4c3c-ba29-0f4202c9b0d5",
   "metadata": {},
   "outputs": [
    {
     "name": "stdout",
     "output_type": "stream",
     "text": [
      "Performing preprocessing on train set ...\n",
      "  nom_arrondissement_communes   latitude  longitude  numdocksavailable  \\\n",
      "0                       Paris  48.835093   2.353468                 17   \n",
      "1                       Paris  48.856452   2.334852                 17   \n",
      "2                       Paris  48.853148   2.326391                 10   \n",
      "3             Vitry-sur-Seine  48.796288   2.417212                 12   \n",
      "4                       Paris  48.880222   2.285468                 36   \n",
      "\n",
      "   mechanical  ebike  is_renting  hour  day day_name  minute  second  \\\n",
      "0          24      6           1    18   16   Sunday      40      14   \n",
      "1           2      0           1    18   16   Sunday      36      39   \n",
      "2           2      3           1    18   16   Sunday      37      42   \n",
      "3          12      6           1    18   16   Sunday      38      11   \n",
      "4           0      2           1    18   16   Sunday      40      32   \n",
      "\n",
      "  time_period  \n",
      "0     Evening  \n",
      "1     Evening  \n",
      "2     Evening  \n",
      "3     Evening  \n",
      "4     Evening  \n",
      "... Done.\n",
      "Performing preprocessing on test set ...\n",
      "      nom_arrondissement_communes   latitude  longitude  numdocksavailable  \\\n",
      "8                           Paris  48.887940   2.326124                 27   \n",
      "4530                    Montreuil  48.852995   2.424739                 14   \n",
      "5344                        Paris  48.845128   2.345457                 11   \n",
      "12187                       Paris  48.875902   2.322616                 61   \n",
      "10301                       Paris  48.851350   2.412021                 12   \n",
      "\n",
      "       mechanical  ebike  is_renting  hour  day day_name  minute  second  \\\n",
      "8               0      2           1    18   16   Sunday      41      18   \n",
      "4530            7      6           1     5   18  Tuesday      45       8   \n",
      "5344            0      3           1     5   18  Tuesday      41      42   \n",
      "12187           1      1           1    16   16   Sunday      40      55   \n",
      "10301           7      3           1    19   16   Sunday      41      30   \n",
      "\n",
      "      time_period  \n",
      "8         Evening  \n",
      "4530        Night  \n",
      "5344        Night  \n",
      "12187   Afternoon  \n",
      "10301     Evening  \n",
      "... Done.\n",
      "  (0, 42)\t1.0\n",
      "  (0, 60)\t1.0\n",
      "  (0, 61)\t1.0\n",
      "  (0, 66)\t1.0\n",
      "  (0, 69)\t27.0\n",
      "  (0, 71)\t2.0\n",
      "  (0, 72)\t5.0\n",
      "  (0, 73)\t11.0\n",
      "  (0, 74)\t32.0\n",
      "  (0, 75)\t18.0\n",
      "  (1, 35)\t1.0\n",
      "  (1, 60)\t1.0\n",
      "  (1, 63)\t1.0\n",
      "  (1, 67)\t1.0\n",
      "  (1, 69)\t14.0\n",
      "  (1, 70)\t7.0\n",
      "  (1, 71)\t6.0\n",
      "  (1, 72)\t6.0\n",
      "  (1, 73)\t4.0\n",
      "  (1, 74)\t36.0\n",
      "  (1, 75)\t8.0\n"
     ]
    }
   ],
   "source": [
    "# Preprocessings on train set\n",
    "print(\"Performing preprocessing on train set ...\")\n",
    "print(X.head())\n",
    "X_train = preprocessor.fit_transform(X_train)\n",
    "print(\"... Done.\")\n",
    "\n",
    "# Preprocessing on test set\n",
    "print(\"Performing preprocessing on test set ...\")\n",
    "print(X_test.head())\n",
    "X_test = preprocessor.transform(X_test)\n",
    "print(\"... Done.\")\n",
    "print(X_test[:2,:])"
   ]
  },
  {
   "cell_type": "code",
   "execution_count": 13,
   "id": "f7e8401b-6bac-480a-9c74-84b3c822756f",
   "metadata": {},
   "outputs": [
    {
     "name": "stdout",
     "output_type": "stream",
     "text": [
      "Train model ...\n",
      "... Done.\n"
     ]
    }
   ],
   "source": [
    "# Train model\n",
    "print(\"Train model ...\")\n",
    "regressor = LinearRegression()\n",
    "regressor.fit(X_train, y_train)\n",
    "print(\"... Done.\")"
   ]
  },
  {
   "cell_type": "code",
   "execution_count": 14,
   "id": "cd8ff053-0594-4243-a1bb-b77bdf0847f1",
   "metadata": {},
   "outputs": [
    {
     "name": "stdout",
     "output_type": "stream",
     "text": [
      "R2 score on training set:  0.8945386873203037\n",
      "R2 score on test set:  0.8915556090079564\n"
     ]
    }
   ],
   "source": [
    "print(\"R2 score on training set: \", regressor.score(X_train, y_train))\n",
    "print(\"R2 score on test set: \", regressor.score(X_test, y_test))"
   ]
  },
  {
   "cell_type": "code",
   "execution_count": 15,
   "id": "0fa00210-2f20-47f0-b093-26d20fde13fb",
   "metadata": {},
   "outputs": [
    {
     "name": "stdout",
     "output_type": "stream",
     "text": [
      "Random Forest with default hyperpameters ...\n",
      "... Done.\n"
     ]
    }
   ],
   "source": [
    "print(\"Random Forest with default hyperpameters ...\")\n",
    "regressor = RandomForestRegressor()\n",
    "regressor.fit(X_train, y_train)\n",
    "print(\"... Done.\")"
   ]
  },
  {
   "cell_type": "code",
   "execution_count": 16,
   "id": "a094a13f-87f6-4ae1-9ff4-5c0ce56df919",
   "metadata": {},
   "outputs": [
    {
     "name": "stdout",
     "output_type": "stream",
     "text": [
      "R2 score on training set:  0.9998715742341968\n",
      "R2 score on test set:  0.9911297133217641\n"
     ]
    }
   ],
   "source": [
    "print(\"R2 score on training set: \", regressor.score(X_train, y_train))\n",
    "print(\"R2 score on test set: \", regressor.score(X_test, y_test))"
   ]
  }
 ],
 "metadata": {
  "kernelspec": {
   "display_name": "Python 3 (ipykernel)",
   "language": "python",
   "name": "python3"
  },
  "language_info": {
   "codemirror_mode": {
    "name": "ipython",
    "version": 3
   },
   "file_extension": ".py",
   "mimetype": "text/x-python",
   "name": "python",
   "nbconvert_exporter": "python",
   "pygments_lexer": "ipython3",
   "version": "3.10.9"
  }
 },
 "nbformat": 4,
 "nbformat_minor": 5
}
